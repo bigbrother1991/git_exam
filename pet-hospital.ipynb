{
 "cells": [
  {
   "cell_type": "code",
   "execution_count": 1,
   "metadata": {},
   "outputs": [],
   "source": [
    "import pandas as pd\n",
    "from pandas import DataFrame, Series\n",
    "import folium\n"
   ]
  },
  {
   "cell_type": "code",
   "execution_count": 2,
   "metadata": {},
   "outputs": [],
   "source": [
    "\n",
    "data1=pd.read_excel('hospital.xlsx', index=False)\n"
   ]
  },
  {
   "cell_type": "code",
   "execution_count": 7,
   "metadata": {},
   "outputs": [],
   "source": [
    "\n",
    "hospital_seoul = data1.loc[data1['시도명'] == '서울특별시', :]\n",
    "hospital_seoul.to_csv('hospital-seoul.csv', index=False)\n",
    "\n",
    "hospital_daejeon = data1.loc[data1['시도명'] == '대전광역시', :]\n",
    "hospital_daejeon.to_csv('hospital-daejeon.csv', index=False)\n",
    "\n",
    "hospital_busan = data1.loc[data1['시도명'] == '부산광역시', :]\n",
    "hospital_busan.to_csv('hospital-busan.csv', index=False)\n",
    "\n",
    "hospital_incheon = data1.loc[data1['시도명'] == '인천광역시', :]\n",
    "hospital_incheon.to_csv('hospital-incheon.csv', index=False)\n",
    "\n",
    "hospital_daegu = data1.loc[data1['시도명'] == '대구광역시', :]\n",
    "hospital_daegu.to_csv('hospital-daegu.csv', index=False)\n",
    "\n",
    "hospital_gwangju = data1.loc[data1['시도명'] == '광주광역시', :]\n",
    "hospital_gwangju.to_csv('hospital-gwangju.csv', index=False)\n",
    "\n",
    "hospital_ulsan = data1.loc[data1['시도명'] == '울산광역시', :]\n",
    "hospital_ulsan.to_csv('hospital-ulsan.csv', index=False)\n",
    "\n"
   ]
  },
  {
   "cell_type": "code",
   "execution_count": 8,
   "metadata": {},
   "outputs": [],
   "source": [
    "\n",
    "map_osm = folium.Map(location=[37.549175, 126.984756], zoom_start=12)\n",
    "\n",
    "map_osm1 = folium.Map(location=[37.549175, 126.984756], zoom_start=12)\n",
    "\n",
    "map_osm2 = folium.Map(location=[36.345934, 127.397141], zoom_start=12)\n",
    "\n",
    "map_osm3 = folium.Map(location=[35.165032, 129.049324], zoom_start=12)\n",
    "\n",
    "map_osm4 = folium.Map(location=[37.457454, 126.676389], zoom_start=12)\n",
    "\n",
    "map_osm5 = folium.Map(location=[35.811615, 128.563964], zoom_start=12)\n",
    "\n",
    "map_osm6 = folium.Map(location=[35.162830, 126.836022], zoom_start=12)\n",
    "\n",
    "map_osm7 = folium.Map(location=[35.546208, 129.259045], zoom_start=12)\n",
    "\n"
   ]
  },
  {
   "cell_type": "code",
   "execution_count": 9,
   "metadata": {},
   "outputs": [],
   "source": [
    "\n",
    "for item in retail_seoul.index:\n",
    "    lat = retail_seoul.loc[item,'위도']\n",
    "    long = retail_seoul.loc[item,'경도']\n",
    "    name = retail_seoul.loc[item,'상호명']\n",
    "    folium.CircleMarker([lat,long],\n",
    "                        color='gray',\n",
    "                        popup=name,\n",
    "                        fill = True).add_to(map_osm1) \n",
    "map_osm1.save(\"D:/map/hospital-seoul.html\")\n",
    "\n",
    "for item in retail_daejeon.index:\n",
    "    lat = retail_daejeon.loc[item,'위도']\n",
    "    long = retail_daejeon.loc[item,'경도']\n",
    "    name = retail_daejeon.loc[item,'상호명']\n",
    "    folium.CircleMarker([lat,long],\n",
    "                        color='purple',\n",
    "                        popup=name,\n",
    "                        fill = True).add_to(map_osm2) \n",
    "map_osm2.save(\"D:/map/hospital-daejeon.html\")\n",
    "\n",
    "\n",
    "for item in retail_busan.index:\n",
    "    lat = retail_busan.loc[item,'위도']\n",
    "    long = retail_busan.loc[item,'경도']\n",
    "    name = retail_busan.loc[item,'상호명']\n",
    "    folium.CircleMarker([lat,long],\n",
    "                        color='green',\n",
    "                        popup=name,\n",
    "                        fill = True).add_to(map_osm3) \n",
    "map_osm3.save(\"D:/map/hospital-busan.html\")\n",
    "\n",
    "for item in retail_incheon.index:\n",
    "    lat = retail_incheon.loc[item,'위도']\n",
    "    long = retail_incheon.loc[item,'경도']\n",
    "    name = retail_incheon.loc[item,'상호명']\n",
    "    folium.CircleMarker([lat,long],\n",
    "                        color='black',\n",
    "                        popup=name,\n",
    "                        fill = True).add_to(map_osm4) \n",
    "map_osm4.save(\"D:/map/hospital-incheon.html\")\n",
    "\n",
    "\n",
    "for item in retail_daegu.index:\n",
    "    lat = retail_daegu.loc[item,'위도']\n",
    "    long = retail_daegu.loc[item,'경도']\n",
    "    name = retail_daegu.loc[item,'상호명']\n",
    "    folium.CircleMarker([lat,long],\n",
    "                        color='gray',\n",
    "                        popup=name,\n",
    "                        fill = True).add_to(map_osm5) \n",
    "map_osm5.save(\"D:/map/hospital-daegu.html\")\n",
    "\n",
    "\n",
    "for item in retail_gwangju.index:\n",
    "    lat = retail_gwangju.loc[item,'위도']\n",
    "    long = retail_gwangju.loc[item,'경도']\n",
    "    name = retail_gwangju.loc[item,'상호명']\n",
    "    folium.CircleMarker([lat,long],\n",
    "                        color='red',\n",
    "                        popup=name,\n",
    "                        fill = True).add_to(map_osm6) \n",
    "    \n",
    "map_osm6.save(\"D:/map/hospital-gwangju.html\")\n",
    "\n",
    "\n",
    "####################################\n",
    "for item in retail_ulsan.index:\n",
    "    lat = retail_ulsan.loc[item,'위도']\n",
    "    long = retail_ulsan.loc[item,'경도']\n",
    "    name = retail_ulsan.loc[item,'상호명']\n",
    "    folium.CircleMarker([lat,long],\n",
    "                        color='pink',\n",
    "                        popup=name,\n",
    "                        fill = True).add_to(map_osm7) \n",
    "    \n",
    "map_osm7.save(\"D:/map/hospital-ulsan.html\")\n",
    "\n",
    "\n",
    "\n",
    "\n",
    "\n"
   ]
  },
  {
   "cell_type": "code",
   "execution_count": null,
   "metadata": {},
   "outputs": [],
   "source": []
  },
  {
   "cell_type": "code",
   "execution_count": null,
   "metadata": {},
   "outputs": [],
   "source": []
  },
  {
   "cell_type": "code",
   "execution_count": null,
   "metadata": {},
   "outputs": [],
   "source": []
  },
  {
   "cell_type": "code",
   "execution_count": null,
   "metadata": {},
   "outputs": [],
   "source": []
  },
  {
   "cell_type": "code",
   "execution_count": null,
   "metadata": {},
   "outputs": [],
   "source": []
  },
  {
   "cell_type": "code",
   "execution_count": null,
   "metadata": {},
   "outputs": [],
   "source": []
  },
  {
   "cell_type": "code",
   "execution_count": null,
   "metadata": {},
   "outputs": [],
   "source": []
  },
  {
   "cell_type": "code",
   "execution_count": null,
   "metadata": {},
   "outputs": [],
   "source": []
  },
  {
   "cell_type": "code",
   "execution_count": null,
   "metadata": {},
   "outputs": [],
   "source": []
  }
 ],
 "metadata": {
  "kernelspec": {
   "display_name": "Python 3",
   "language": "python",
   "name": "python3"
  },
  "language_info": {
   "codemirror_mode": {
    "name": "ipython",
    "version": 3
   },
   "file_extension": ".py",
   "mimetype": "text/x-python",
   "name": "python",
   "nbconvert_exporter": "python",
   "pygments_lexer": "ipython3",
   "version": "3.7.4"
  }
 },
 "nbformat": 4,
 "nbformat_minor": 4
}
